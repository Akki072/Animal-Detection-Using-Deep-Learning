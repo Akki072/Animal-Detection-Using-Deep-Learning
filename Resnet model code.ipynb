{
 "cells": [
  {
   "cell_type": "code",
   "execution_count": 1,
   "id": "ff1db29e-8e54-49b6-85ca-a3b8565996ed",
   "metadata": {},
   "outputs": [],
   "source": [
    "import torch\n",
    "from torchvision import datasets, transforms\n",
    "from torch.utils.data import DataLoader\n",
    "\n",
    "# Image transformations\n",
    "transform = transforms.Compose([\n",
    "    transforms.Resize(256),\n",
    "    transforms.CenterCrop(224),\n",
    "    transforms.ToTensor(),\n",
    "    transforms.Normalize(mean=[0.485, 0.456, 0.406], std=[0.229, 0.224, 0.225])\n",
    "])\n",
    "\n",
    "# Training and validation datasets\n",
    "train_dataset = datasets.ImageFolder(root=r\"D:\\Download\\DatasetResnet\\train\", transform=transform)\n",
    "val_dataset = datasets.ImageFolder(root=r\"D:\\Download\\DatasetResnet\\val\", transform=transform)\n",
    "\n",
    "# Data loaders\n",
    "train_loader = DataLoader(train_dataset, batch_size=32, shuffle=True)\n",
    "val_loader = DataLoader(val_dataset, batch_size=32, shuffle=False)\n"
   ]
  },
  {
   "cell_type": "code",
   "execution_count": 2,
   "id": "98050f62-58c9-44f3-aeac-9e57257cee89",
   "metadata": {},
   "outputs": [
    {
     "name": "stderr",
     "output_type": "stream",
     "text": [
      "C:\\Users\\aakas\\.conda\\envs\\animaldetect\\Lib\\site-packages\\torchvision\\models\\_utils.py:208: UserWarning: The parameter 'pretrained' is deprecated since 0.13 and may be removed in the future, please use 'weights' instead.\n",
      "  warnings.warn(\n",
      "C:\\Users\\aakas\\.conda\\envs\\animaldetect\\Lib\\site-packages\\torchvision\\models\\_utils.py:223: UserWarning: Arguments other than a weight enum or `None` for 'weights' are deprecated since 0.13 and may be removed in the future. The current behavior is equivalent to passing `weights=ResNet50_Weights.IMAGENET1K_V1`. You can also use `weights=ResNet50_Weights.DEFAULT` to get the most up-to-date weights.\n",
      "  warnings.warn(msg)\n"
     ]
    }
   ],
   "source": [
    "from torchvision import models\n",
    "import torch.nn as nn\n",
    "\n",
    "# Load a pre-trained ResNet50 model\n",
    "model = models.resnet50(pretrained=True)\n",
    "\n",
    "# Freeze all layers\n",
    "for param in model.parameters():\n",
    "    param.requires_grad = False\n",
    "\n",
    "# Replace the last fully connected layer\n",
    "num_features = model.fc.in_features\n",
    "model.fc = nn.Linear(num_features, 4)\n",
    "\n",
    "# Move model to the appropriate device\n",
    "device = torch.device(\"cuda\" if torch.cuda.is_available() else \"cpu\")\n",
    "model = model.to(device)\n"
   ]
  },
  {
   "cell_type": "code",
   "execution_count": 3,
   "id": "48c562f3-f462-4375-aa37-21a22cce8eba",
   "metadata": {},
   "outputs": [],
   "source": [
    "from torch import optim\n",
    "\n",
    "criterion = nn.CrossEntropyLoss()\n",
    "optimizer = optim.Adam(model.fc.parameters(), lr=0.001)\n"
   ]
  },
  {
   "cell_type": "code",
   "execution_count": 4,
   "id": "0096eb39-e8a0-47c2-849a-d2edbb507ba6",
   "metadata": {},
   "outputs": [
    {
     "name": "stdout",
     "output_type": "stream",
     "text": [
      "Epoch 1/10, Train Loss: 0.5873\n",
      "Epoch 1/10, Val Loss: 0.2531\n",
      "Epoch 2/10, Train Loss: 0.1859\n",
      "Epoch 2/10, Val Loss: 0.1711\n",
      "Epoch 3/10, Train Loss: 0.1342\n",
      "Epoch 3/10, Val Loss: 0.1568\n",
      "Epoch 4/10, Train Loss: 0.1247\n",
      "Epoch 4/10, Val Loss: 0.1612\n",
      "Epoch 5/10, Train Loss: 0.0916\n",
      "Epoch 5/10, Val Loss: 0.1116\n",
      "Epoch 6/10, Train Loss: 0.0708\n",
      "Epoch 6/10, Val Loss: 0.1041\n",
      "Epoch 7/10, Train Loss: 0.0736\n",
      "Epoch 7/10, Val Loss: 0.1140\n",
      "Epoch 8/10, Train Loss: 0.0616\n",
      "Epoch 8/10, Val Loss: 0.0980\n",
      "Epoch 9/10, Train Loss: 0.0569\n",
      "Epoch 9/10, Val Loss: 0.0972\n",
      "Epoch 10/10, Train Loss: 0.0522\n",
      "Epoch 10/10, Val Loss: 0.0989\n"
     ]
    }
   ],
   "source": [
    "def train_model(model, criterion, optimizer, train_loader, val_loader, epochs=25):\n",
    "    for epoch in range(epochs):\n",
    "        model.train()\n",
    "        running_loss = 0.0\n",
    "\n",
    "        for inputs, labels in train_loader:\n",
    "            inputs, labels = inputs.to(device), labels.to(device)\n",
    "\n",
    "            optimizer.zero_grad()\n",
    "\n",
    "            outputs = model(inputs)\n",
    "            loss = criterion(outputs, labels)\n",
    "            loss.backward()\n",
    "            optimizer.step()\n",
    "\n",
    "            running_loss += loss.item() * inputs.size(0)\n",
    "\n",
    "        epoch_loss = running_loss / len(train_loader.dataset)\n",
    "        print(f'Epoch {epoch+1}/{epochs}, Train Loss: {epoch_loss:.4f}')\n",
    "\n",
    "        # Validate the model\n",
    "        model.eval()\n",
    "        val_loss = 0.0\n",
    "        with torch.no_grad():\n",
    "            for inputs, labels in val_loader:\n",
    "                inputs, labels = inputs.to(device), labels.to(device)\n",
    "                outputs = model(inputs)\n",
    "                loss = criterion(outputs, labels)\n",
    "                val_loss += loss.item() * inputs.size(0)\n",
    "\n",
    "        val_loss /= len(val_loader.dataset)\n",
    "        print(f'Epoch {epoch+1}/{epochs}, Val Loss: {val_loss:.4f}')\n",
    "\n",
    "train_model(model, criterion, optimizer, train_loader, val_loader, epochs=10)\n"
   ]
  },
  {
   "cell_type": "code",
   "execution_count": 5,
   "id": "e78e414f-acaf-4818-8648-26128452c0cf",
   "metadata": {},
   "outputs": [],
   "source": [
    "torch.save(model.state_dict(), 'trained_resnet50.pth')\n"
   ]
  },
  {
   "cell_type": "code",
   "execution_count": 7,
   "id": "b2f171f1-410b-4ead-bbe8-a4603a810e09",
   "metadata": {},
   "outputs": [],
   "source": [
    "from PIL import Image\n",
    "\n",
    "def predict(image_path, model, device, transform):\n",
    "    model.eval()\n",
    "    image = Image.open(image_path)\n",
    "    image = transform(image).unsqueeze(32)  # Add batch dimension\n",
    "    image = image.to(device)\n",
    "\n",
    "    with torch.no_grad():\n",
    "        output = model(image)\n",
    "        _, predicted = torch.max(output, 1)\n",
    "\n",
    "    return predicted.item()\n"
   ]
  },
  {
   "cell_type": "code",
   "execution_count": 13,
   "id": "cd725754-9015-4304-ae6d-9eb1dd4bc2b7",
   "metadata": {},
   "outputs": [
    {
     "name": "stdout",
     "output_type": "stream",
     "text": [
      "The predicted class is rhino\n"
     ]
    }
   ],
   "source": [
    "def predict(image_path, model, device, transform):\n",
    "    model.eval()\n",
    "    image = Image.open(image_path)\n",
    "    image = transform(image).unsqueeze(0)  # Add batch dimension\n",
    "    image = image.to(device)\n",
    "\n",
    "    with torch.no_grad():\n",
    "        output = model(image)\n",
    "        _, predicted = torch.max(output, 1)\n",
    "\n",
    "    return predicted.item()\n",
    "\n",
    "# Example usage\n",
    "# Assuming you've defined 'transform' and loaded 'model' and 'device' as before\n",
    "class_names = ['buffalo', 'elephant', 'rhino', 'zebra']\n",
    "image_path = r\"D:\\Download\\Equus_quagga_burchellii_-_Etosha,_2014.jpg\"\n",
    "predicted_class_index = predict(image_path, model, device, transform)\n",
    "print(f'The predicted class is {class_names[predicted_class_index]}')\n",
    "\n"
   ]
  },
  {
   "cell_type": "code",
   "execution_count": null,
   "id": "b5287df3-e078-44d9-a40c-58ebacfc39c1",
   "metadata": {},
   "outputs": [],
   "source": []
  }
 ],
 "metadata": {
  "kernelspec": {
   "display_name": "Python 3 (ipykernel)",
   "language": "python",
   "name": "python3"
  },
  "language_info": {
   "codemirror_mode": {
    "name": "ipython",
    "version": 3
   },
   "file_extension": ".py",
   "mimetype": "text/x-python",
   "name": "python",
   "nbconvert_exporter": "python",
   "pygments_lexer": "ipython3",
   "version": "3.8.19"
  }
 },
 "nbformat": 4,
 "nbformat_minor": 5
}
